{
 "cells": [
  {
   "cell_type": "code",
   "execution_count": 5,
   "metadata": {
    "collapsed": true
   },
   "outputs": [],
   "source": [
    "import sys\n",
    "sys.path.append('C:\\\\Program Files (x86)\\\\ArcGIS\\\\Desktop10.5\\\\bin')\n",
    "sys.path.append('C:\\\\Program Files (x86)\\\\ArcGIS\\\\Desktop10.5\\\\arcpy')\n",
    "sys.path.append('C:\\\\Program Files (x86)\\\\ArcGIS\\\\Desktop10.5\\\\ArcToolbox\\\\Scripts')\n",
    "import arcpy\n",
    "#stolen from class"
   ]
  },
  {
   "cell_type": "markdown",
   "metadata": {},
   "source": [
    "Below is the OSGeo4W code from the canvas assignment page.  The '64' after each OSGeo4W had to be removed. "
   ]
  },
  {
   "cell_type": "code",
   "execution_count": 6,
   "metadata": {
    "collapsed": true
   },
   "outputs": [],
   "source": [
    "from subprocess import call\n",
    "import os\n",
    "\n",
    "os.environ[\"GDAL_DATA\"] = \"C:\\\\OSGeo4W\\\\share\\\\gdal\"\n",
    "os.environ[\"GDAL_DRIVER_PATH\"] = \"C:\\\\OSGeo4W\\\\bin\\\\gdalplugins\"\n",
    "os.environ[\"PROJ_LIB\"] = \"C:\\\\OSGeo4W\\\\share\\\\proj\"\n",
    "os.environ[\"PATH\"] = \"C:\\\\OSGeo4W\\\\bin;\"+os.environ[\"PATH\"]+\";C:\\\\OSGeo4W64\\\\apps\\\\msys\\\\bin;C:\\\\OSGeo4W\\\\apps\\\\Python27\\\\Scripts\"\n"
   ]
  },
  {
   "cell_type": "markdown",
   "metadata": {},
   "source": [
    "The next cell copies the shapefile.  The copy is the one I will be editing.  "
   ]
  },
  {
   "cell_type": "code",
   "execution_count": 7,
   "metadata": {},
   "outputs": [
    {
     "data": {
      "text/plain": [
       "<Result 'C:\\\\Users\\\\seniowl\\\\458\\\\Lab1\\\\WAcounties\\\\saep_bg10_copy2.shp'>"
      ]
     },
     "execution_count": 7,
     "metadata": {},
     "output_type": "execute_result"
    }
   ],
   "source": [
    "arcpy.env.overwriteOutput = True\n",
    "#enables all the magic, I guess\n",
    "arcpy.management.CopyFeatures(\n",
    "    \"C:\\\\Users\\\\seniowl\\\\458\\\\Lab1\\\\saep_bg10\\\\saep_bg10.shp\",\n",
    "    \"C:\\\\Users\\\\seniowl\\\\458\\\\Lab1\\\\WAcounties\\\\saep_bg10_copy2.shp\")\n",
    "#make a copy of the original shapefile in case processing messes with shp beyond repair"
   ]
  },
  {
   "cell_type": "markdown",
   "metadata": {},
   "source": [
    "The next cell assigns variable names to the copied shapefile and the database file given to us"
   ]
  },
  {
   "cell_type": "code",
   "execution_count": null,
   "metadata": {
    "collapsed": true
   },
   "outputs": [],
   "source": [
    "wa_tracts_fc = \"C:\\\\Users\\\\seniowl\\\\458\\\\Lab1\\\\WAcounties\\\\saep_bg10_copy2.shp\" #assigns a variable name to the blockgroup shp\n",
    "wa_counties_table = \"C:\\\\Users\\\\seniowl\\\\458\\\\Lab1\\\\WashingtonFIPS.dbf\" #assigns a variable name to the county name dbf"
   ]
  },
  {
   "cell_type": "markdown",
   "metadata": {},
   "source": [
    "The next cell uses the Join Field tool to add the County Name column from the dbf to the blockgroup shapefile based on the three-digit county code that is included in both tables."
   ]
  },
  {
   "cell_type": "code",
   "execution_count": null,
   "metadata": {
    "collapsed": true
   },
   "outputs": [],
   "source": [
    "arcpy.JoinField_management(wa_tracts_fc, \"COUNTYFP10\", wa_counties_table, \"FIPSCounty\", \"CountyName\") \n",
    "#adds the county name field from the dbf to the blockgroup shp"
   ]
  },
  {
   "cell_type": "markdown",
   "metadata": {},
   "source": [
    "This cell uses the Dissolve tool to create a new shapefile that has the county names and their total populations.  This is done by combining all of the records with the same county name into one feature.  The only attributes maintained are the county name (the dissolve field) and the summed population (the statistics field).  "
   ]
  },
  {
   "cell_type": "code",
   "execution_count": null,
   "metadata": {
    "collapsed": true
   },
   "outputs": [],
   "source": [
    "#Dissolve(input, output, field on which the dissolve is based, statisticsfield statistictype)\n",
    "arcpy.Dissolve_management(\"C:\\\\Users\\\\seniowl\\\\458\\\\Lab1\\\\WAcounties\\\\saep_bg10_copy2.shp\", \n",
    "\"C:\\\\Users\\\\seniowl\\\\458\\\\Lab1\\\\WAcounties\\\\county_dissolve.shp\", \n",
    "\"CountyNa_1\", \"POP2017 SUM\")\n",
    "#This tool dissolves the blockgroup layer based on county name while adding all populations\n",
    "#The previous step worked, \n",
    "#but something went wrong with the CountyName field - \n",
    "#another field was added called CountyNa_1 which seemed to work\n",
    "#output is a shp with the 39 counties and their populations\n"
   ]
  },
  {
   "cell_type": "markdown",
   "metadata": {},
   "source": [
    "This cell assigns a variable name to the dissolve output shapefile"
   ]
  },
  {
   "cell_type": "code",
   "execution_count": null,
   "metadata": {
    "collapsed": true
   },
   "outputs": [],
   "source": [
    "county_pops = \"C:\\\\Users\\\\seniowl\\\\458\\\\Lab1\\\\WAcounties\\\\county_dissolve.shp\"\n",
    "#assigns a variable name to the new dissolved layer"
   ]
  },
  {
   "cell_type": "markdown",
   "metadata": {},
   "source": [
    "This cell creates a list of the county names from the database file"
   ]
  },
  {
   "cell_type": "code",
   "execution_count": null,
   "metadata": {
    "collapsed": true
   },
   "outputs": [],
   "source": [
    "county_list = []\n",
    "cursor = arcpy.da.SearchCursor(wa_counties_table, [\"CountyName\"])\n",
    "for row in cursor:\n",
    "\tcounty_list.append(row[0])\n",
    "#creates a list of county names from the dbf"
   ]
  },
  {
   "cell_type": "markdown",
   "metadata": {},
   "source": [
    "This cell creates the shapefiles for each county, using the list created in the previous cell.  The for loop goes through each county in the list.  The select tool selects records and creates a new shapefile based on the sql statement given as the third parameter in the tool.  Each county name, defined as the variable current_county, is inserted into the name of the shapefile in the second parameter and into the sql statement.  "
   ]
  },
  {
   "cell_type": "code",
   "execution_count": null,
   "metadata": {
    "collapsed": true
   },
   "outputs": [],
   "source": [
    "#Select_analysis(featureclass, location and name of outputfile, sql statement) \n",
    "\n",
    "for current_county in county_list: #\n",
    "    print current_county #this is here to make sure it is working\n",
    "    arcpy.Select_analysis(wa_tracts_fc,\n",
    "                          \"C:\\\\Users\\\\seniowl\\\\458\\\\Lab1\\\\WAcounties\\\\\"+ current_county + \".shp\",\n",
    "                          \"\\\"CountyNa_1\\\" = \"+ \"'\" + current_county + \"'\")\n",
    "#"
   ]
  },
  {
   "cell_type": "markdown",
   "metadata": {},
   "source": [
    "This cell makes a list of the total populations based on the dissolve output field created earlier.  Remeber that shp was given the variable name, county_pops.  The population field name of that file became \"SUM_POP201\", the orignal name of the POP2017 field name from the blockgroup shp, preceded by the statistic type used in the dissolve, and shortened to ten characters.  \n",
    "\n",
    "The list is then sorted.  It is a numeric field, so it will be sorted numerically.  To sort in descending order, (reverse = True) is added to the function.  listname[0:10] will return the first ten items in the sorted list.  \n",
    "\n"
   ]
  },
  {
   "cell_type": "code",
   "execution_count": null,
   "metadata": {
    "collapsed": true
   },
   "outputs": [],
   "source": [
    "#SearchCursor(featureclassname, fieldname)\n",
    "pop_list = []\n",
    "cursor = arcpy.da.SearchCursor(county_pops, [\"SUM_POP201\"]) #county_pops is the dissolved layer, SUM_POP201 is the population field\n",
    "for row in cursor:\n",
    "\tpop_list.append(row[0]) #creates a list of the populations from the dissolved output\n",
    "    \n",
    "pop_list.sort(reverse = True) #sorts the list in descending order\n",
    "    \n",
    "print pop_list[0:10] #prints the first ten numbers in the list"
   ]
  },
  {
   "cell_type": "markdown",
   "metadata": {},
   "source": [
    "The following cleans up that list.  A for loop is used to associate numeric rankings to the populations listed in descending order"
   ]
  },
  {
   "cell_type": "code",
   "execution_count": 20,
   "metadata": {},
   "outputs": [
    {
     "name": "stdout",
     "output_type": "stream",
     "text": [
      "Populations of Most Populous Counties in WA:\n",
      "1: 2153700\n",
      "2: 859400\n",
      "3: 789400\n",
      "4: 499800\n",
      "5: 471000\n",
      "6: 276900\n",
      "7: 264300\n",
      "8: 253000\n",
      "9: 216300\n",
      "10: 193500\n"
     ]
    }
   ],
   "source": [
    "#this will make it a bit prettier and print 1-10 ranks\n",
    "print \"Populations of Most Populous Counties in WA:\"\n",
    "\n",
    "i = 1\n",
    "for populations in pop_list[0:10]:\n",
    "  \tprint (str(i) + \": \" + str(int(populations)))\n",
    "        i += 1"
   ]
  },
  {
   "cell_type": "markdown",
   "metadata": {},
   "source": [
    "I consulted Jonathan on this one.  There were a couple of things that needed to be modified in the code given on the assignment page.  This converts the county shapefiles to geojson files.  I used the same method used for the creation of the county shapefiles.  The county list from the dbf was used in a loop "
   ]
  },
  {
   "cell_type": "code",
   "execution_count": 21,
   "metadata": {
    "collapsed": true
   },
   "outputs": [],
   "source": [
    "for current_county in county_list:\n",
    "    call(['C:\\\\OSGeo4W\\\\bin\\\\ogr2ogr',\n",
    "        '-f','GeoJSON','-t_srs','WGS84',\n",
    "        '-s_srs','EPSG:2927',\n",
    "        'C:\\\\Users\\\\seniowl\\\\458\\\\Lab1\\\\WAcounties\\\\GeoJSON\\\\'+ current_county + '.geojson',\n",
    "        'C:\\\\Users\\\\seniowl\\\\458\\\\Lab1\\\\WAcounties\\\\'+ current_county + '.shp'])"
   ]
  },
  {
   "cell_type": "markdown",
   "metadata": {},
   "source": [
    "It's hard to say how much time I spent on this assignment.  I would say between reading, looking up tool syntax, writing unsuccessful code, working in class, and producing the final notebook, the entire process took between 17 and 20 hours.  "
   ]
  },
  {
   "cell_type": "code",
   "execution_count": null,
   "metadata": {
    "collapsed": true
   },
   "outputs": [],
   "source": []
  }
 ],
 "metadata": {
  "kernelspec": {
   "display_name": "Python 2",
   "language": "python",
   "name": "python2"
  },
  "language_info": {
   "codemirror_mode": {
    "name": "ipython",
    "version": 2
   },
   "file_extension": ".py",
   "mimetype": "text/x-python",
   "name": "python",
   "nbconvert_exporter": "python",
   "pygments_lexer": "ipython2",
   "version": "2.7.14"
  }
 },
 "nbformat": 4,
 "nbformat_minor": 2
}
